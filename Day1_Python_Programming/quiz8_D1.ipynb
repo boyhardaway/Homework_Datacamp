{
 "cells": [
  {
   "cell_type": "code",
   "execution_count": 1,
   "metadata": {},
   "outputs": [
    {
     "data": {
      "text/plain": [
       "[2, 9, 1, 81, 32]"
      ]
     },
     "execution_count": 1,
     "metadata": {},
     "output_type": "execute_result"
    }
   ],
   "source": [
    "#1\n",
    "lst1 = [1, 2, 3, 4, 5]\n",
    "lst2 = [2, 3, 1, 3, 2]\n",
    "\n",
    "res = map(lambda x,y: y**x, lst1,lst2)\n",
    "list(res)"
   ]
  },
  {
   "cell_type": "code",
   "execution_count": 9,
   "metadata": {},
   "outputs": [
    {
     "data": {
      "text/plain": [
       "[('boy', 1, 90), ('ann', 2, 80), ('proud', 3, 70)]"
      ]
     },
     "execution_count": 9,
     "metadata": {},
     "output_type": "execute_result"
    }
   ],
   "source": [
    "#2\n",
    "name = ['boy' ,'ann', 'proud']\n",
    "no =[1, 2, 3]\n",
    "score =[90,80,70]\n",
    "\n",
    "res = zip(name,number,score)\n",
    "list(res)"
   ]
  }
 ],
 "metadata": {
  "kernelspec": {
   "display_name": "Python 3",
   "language": "python",
   "name": "python3"
  },
  "language_info": {
   "codemirror_mode": {
    "name": "ipython",
    "version": 3
   },
   "file_extension": ".py",
   "mimetype": "text/x-python",
   "name": "python",
   "nbconvert_exporter": "python",
   "pygments_lexer": "ipython3",
   "version": "3.7.4"
  }
 },
 "nbformat": 4,
 "nbformat_minor": 2
}
