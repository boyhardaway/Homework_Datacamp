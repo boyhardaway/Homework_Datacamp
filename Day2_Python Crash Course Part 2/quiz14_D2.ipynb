{
 "cells": [
  {
   "cell_type": "code",
   "execution_count": 31,
   "metadata": {},
   "outputs": [
    {
     "name": "stdout",
     "output_type": "stream",
     "text": [
      "input number 1 : 1\n",
      "input number 2 : 16\n"
     ]
    },
    {
     "data": {
      "text/plain": [
       "300"
      ]
     },
     "execution_count": 31,
     "metadata": {},
     "output_type": "execute_result"
    }
   ],
   "source": [
    "while 1 :\n",
    "    num1 = int(input('input number 1 : '))\n",
    "    if num1 >= 0 and num1 <= 60  :\n",
    "        break\n",
    "while 1 :\n",
    "    num2 = int(input('input number 2 : '))\n",
    "    if num2 >= 0 and num2 <= 60  :\n",
    "        break\n",
    "h =num1 - 1  \n",
    "if  num2 > 15:\n",
    "    h += 1\n",
    "h*300    "
   ]
  }
 ],
 "metadata": {
  "kernelspec": {
   "display_name": "Python 3",
   "language": "python",
   "name": "python3"
  },
  "language_info": {
   "codemirror_mode": {
    "name": "ipython",
    "version": 3
   },
   "file_extension": ".py",
   "mimetype": "text/x-python",
   "name": "python",
   "nbconvert_exporter": "python",
   "pygments_lexer": "ipython3",
   "version": "3.7.4"
  }
 },
 "nbformat": 4,
 "nbformat_minor": 4
}
