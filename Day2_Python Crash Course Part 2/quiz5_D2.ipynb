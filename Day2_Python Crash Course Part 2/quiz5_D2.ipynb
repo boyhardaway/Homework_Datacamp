{
 "cells": [
  {
   "cell_type": "code",
   "execution_count": 15,
   "metadata": {},
   "outputs": [
    {
     "name": "stdout",
     "output_type": "stream",
     "text": [
      "input number 1 : 3\n",
      "input number 2 : 4\n",
      "input number 3 : 5\n",
      "สร้าง 3 เหลี่ยมมุมฉากได้\n"
     ]
    }
   ],
   "source": [
    "num1 = int(input('input number 1 : '))\n",
    "num2 = int(input('input number 2 : '))\n",
    "num3 = int(input('input number 3 : '))\n",
    "arr = [num1,num2,num3]\n",
    "arr.sort()\n",
    "if ((arr[0]**2) + (arr[1]**2) == arr[2]**2):\n",
    "    print(\"สร้าง 3 เหลี่ยมมุมฉากได้\")\n",
    "else:\n",
    "    print(\"สร้าง 3 เหลี่ยมมุมฉากไม่ได้\")"
   ]
  }
 ],
 "metadata": {
  "kernelspec": {
   "display_name": "Python 3",
   "language": "python",
   "name": "python3"
  },
  "language_info": {
   "codemirror_mode": {
    "name": "ipython",
    "version": 3
   },
   "file_extension": ".py",
   "mimetype": "text/x-python",
   "name": "python",
   "nbconvert_exporter": "python",
   "pygments_lexer": "ipython3",
   "version": "3.7.4"
  }
 },
 "nbformat": 4,
 "nbformat_minor": 4
}
