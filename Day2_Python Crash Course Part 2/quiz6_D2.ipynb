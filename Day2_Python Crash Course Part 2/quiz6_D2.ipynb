{
 "cells": [
  {
   "cell_type": "code",
   "execution_count": 5,
   "metadata": {},
   "outputs": [
    {
     "name": "stdout",
     "output_type": "stream",
     "text": [
      "input number 1 : 9\n",
      "input number 2 : 9\n",
      "input number 3 : 5\n",
      "สามเหลี่ยมมุมป้าน\n"
     ]
    }
   ],
   "source": [
    "num1 = int(input('input number 1 : '))\n",
    "num2 = int(input('input number 2 : '))\n",
    "num3 = int(input('input number 3 : '))\n",
    "arr = [num1,num2,num3]\n",
    "arr.sort()\n",
    "if ((arr[0]**2) + (arr[1]**2) == arr[2]**2):\n",
    "    print(\"สามเหลี่ยมมุมฉาก\")\n",
    "elif ((arr[0]**2) + (arr[1]**2) < arr[2]**2):\n",
    "    print(\"สามเหลี่ยมมุมแหลม\")\n",
    "else:\n",
    "    print(\"สามเหลี่ยมมุมป้าน\")"
   ]
  }
 ],
 "metadata": {
  "kernelspec": {
   "display_name": "Python 3",
   "language": "python",
   "name": "python3"
  },
  "language_info": {
   "codemirror_mode": {
    "name": "ipython",
    "version": 3
   },
   "file_extension": ".py",
   "mimetype": "text/x-python",
   "name": "python",
   "nbconvert_exporter": "python",
   "pygments_lexer": "ipython3",
   "version": "3.7.4"
  }
 },
 "nbformat": 4,
 "nbformat_minor": 4
}
