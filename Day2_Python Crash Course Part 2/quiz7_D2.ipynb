{
 "cells": [
  {
   "cell_type": "code",
   "execution_count": 22,
   "metadata": {},
   "outputs": [
    {
     "name": "stdout",
     "output_type": "stream",
     "text": [
      "input number 1 : 3000\n",
      "input number 2 : 3000\n",
      "input number 3 : 4000\n",
      "8500.0\n"
     ]
    }
   ],
   "source": [
    "while 1 :\n",
    "    num1 = float(input('input number 1 : '))\n",
    "    if num1 >= 1000 and num1 <= 5000  :\n",
    "        break\n",
    "while 1 :\n",
    "    num2 = float(input('input number 2 : '))\n",
    "    if num2 >= 1000 and num2 <= 5000  :\n",
    "        break\n",
    "while 1 :\n",
    "    num3 = float(input('input number 3 : '))\n",
    "    if num3 >= 1000 and num3 <= 5000  :\n",
    "        break\n",
    "total = sum([num1,num2,num3]) \n",
    "if (total>12000):\n",
    "    print((total*(100-25))/100)\n",
    "elif (total>6000):     \n",
    "    print((total*(100-15))/100)\n",
    "else:\n",
    "    print(total)"
   ]
  }
 ],
 "metadata": {
  "kernelspec": {
   "display_name": "Python 3",
   "language": "python",
   "name": "python3"
  },
  "language_info": {
   "codemirror_mode": {
    "name": "ipython",
    "version": 3
   },
   "file_extension": ".py",
   "mimetype": "text/x-python",
   "name": "python",
   "nbconvert_exporter": "python",
   "pygments_lexer": "ipython3",
   "version": "3.7.4"
  }
 },
 "nbformat": 4,
 "nbformat_minor": 4
}
