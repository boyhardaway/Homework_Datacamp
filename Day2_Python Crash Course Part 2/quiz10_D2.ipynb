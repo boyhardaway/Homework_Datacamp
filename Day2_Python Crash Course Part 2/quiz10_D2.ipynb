{
 "cells": [
  {
   "cell_type": "code",
   "execution_count": 9,
   "metadata": {},
   "outputs": [
    {
     "name": "stdout",
     "output_type": "stream",
     "text": [
      "input number 1 : 5000\n",
      "input number 2 : 5000\n",
      "input number 3 : 3000\n",
      "input number 4 : 1000\n",
      "คุณมีบัตรเครดิตหรือไม่ (Y/N)Y\n",
      "665.0\n"
     ]
    }
   ],
   "source": [
    "while 1 :\n",
    "    num1 = float(input('input number 1 : '))\n",
    "    if num1 >= 1000 and num1 <= 5000  :\n",
    "        break\n",
    "while 1 :\n",
    "    num2 = float(input('input number 2 : '))\n",
    "    if num2 >= 1000 and num2 <= 5000  :\n",
    "        break\n",
    "while 1 :\n",
    "    num3 = float(input('input number 3 : '))\n",
    "    if num3 >= 1000 and num3 <= 5000  :\n",
    "        break\n",
    "while 1 :\n",
    "    num4 = float(input('input number 4 : '))\n",
    "    if num4 >= 1000 and num4 <= 5000  :\n",
    "        break        \n",
    "while 1 :\n",
    "    creditCard = input('คุณมีบัตรเครดิตหรือไม่ (Y/N)')\n",
    "    if creditCard == 'Y':\n",
    "        creditCard = True\n",
    "        break\n",
    "    elif creditCard == 'N' :\n",
    "        creditCard = False \n",
    "        break\n",
    "        \n",
    "total = sum([num1,num2,num3]) \n",
    "net4 = num4\n",
    "if (total>9000):\n",
    "    net4 = (num4*(100-30))/100\n",
    "elif (total>4000):     \n",
    "    net4 = (num4*(100-25))/100\n",
    "    \n",
    "if creditCard == True:\n",
    "    net4 = (net4*(100-5))/100\n",
    "    \n",
    "print(net4)"
   ]
  }
 ],
 "metadata": {
  "kernelspec": {
   "display_name": "Python 3",
   "language": "python",
   "name": "python3"
  },
  "language_info": {
   "codemirror_mode": {
    "name": "ipython",
    "version": 3
   },
   "file_extension": ".py",
   "mimetype": "text/x-python",
   "name": "python",
   "nbconvert_exporter": "python",
   "pygments_lexer": "ipython3",
   "version": "3.7.4"
  }
 },
 "nbformat": 4,
 "nbformat_minor": 4
}
