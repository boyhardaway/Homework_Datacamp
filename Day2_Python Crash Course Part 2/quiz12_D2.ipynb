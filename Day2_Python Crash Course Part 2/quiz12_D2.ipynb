{
 "cells": [
  {
   "cell_type": "code",
   "execution_count": 14,
   "metadata": {},
   "outputs": [
    {
     "name": "stdout",
     "output_type": "stream",
     "text": [
      "input data 1 : e-mail\n",
      "input data 2 : mail\n",
      "input data 3 : electronic mail\n",
      "input data 4 : email\n",
      "mail\n",
      "email\n",
      "e-mail\n",
      "electronic mail\n"
     ]
    }
   ],
   "source": [
    "str1 = input('input data 1 : ')\n",
    "str2 = input('input data 2 : ')\n",
    "str3 = input('input data 3 : ')\n",
    "str4 = input('input data 4 : ')\n",
    "strArr = [str1,str2,str3,str4]\n",
    "strArr.sort(key=len) \n",
    "for s in strArr :\n",
    "    print(s)"
   ]
  }
 ],
 "metadata": {
  "kernelspec": {
   "display_name": "Python 3",
   "language": "python",
   "name": "python3"
  },
  "language_info": {
   "codemirror_mode": {
    "name": "ipython",
    "version": 3
   },
   "file_extension": ".py",
   "mimetype": "text/x-python",
   "name": "python",
   "nbconvert_exporter": "python",
   "pygments_lexer": "ipython3",
   "version": "3.7.4"
  }
 },
 "nbformat": 4,
 "nbformat_minor": 4
}
